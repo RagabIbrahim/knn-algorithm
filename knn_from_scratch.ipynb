{
 "cells": [
  {
   "cell_type": "code",
   "execution_count": 2,
   "metadata": {},
   "outputs": [],
   "source": [
    "import numpy as np\n",
    "import pandas as pd\n",
    "\n",
    "from sklearn import tree   \n",
    "from sklearn.model_selection import train_test_split\n",
    "from sklearn.tree import DecisionTreeClassifier\n",
    "from sklearn.metrics import accuracy_score\n",
    "from sklearn.neighbors import KNeighborsClassifier"
   ]
  },
  {
   "cell_type": "code",
   "execution_count": 3,
   "metadata": {},
   "outputs": [],
   "source": [
    "file_data = pd.read_csv(\"diabetes.csv\", sep = ';')\n",
    "X_train, X_test, y_train, y_test = train_test_split(file_data.drop(\"Outcome\", axis = 1), file_data[\"Outcome\"], test_size=0.4, random_state=100)\n"
   ]
  },
  {
   "cell_type": "code",
   "execution_count": 4,
   "metadata": {},
   "outputs": [
    {
     "name": "stdout",
     "output_type": "stream",
     "text": [
      "KNN Accuracy Rate, which is calculated by accuracy_score() is: 0.668831\n"
     ]
    }
   ],
   "source": [
    "#print(file_data.head())\n",
    "kn = KNeighborsClassifier(n_neighbors=1)\n",
    "kn.fit(X_train, y_train)\n",
    "Y_pred=kn.predict(X_test)\n",
    "\n",
    "print(\"KNN Accuracy Rate, which is calculated by accuracy_score() is: %f\" %accuracy_score(y_test,Y_pred))                                                        "
   ]
  },
  {
   "cell_type": "code",
   "execution_count": 5,
   "metadata": {},
   "outputs": [
    {
     "name": "stdout",
     "output_type": "stream",
     "text": [
      "KNN Accuracy Rate, which is calculated by accuracy_score() and k_neighbor = 1 is: 0.668831\n",
      "KNN Accuracy Rate, which is calculated by accuracy_score() and k_neighbor = 3 is: 0.691558\n",
      "KNN Accuracy Rate, which is calculated by accuracy_score() and k_neighbor = 5 is: 0.714286\n",
      "KNN Accuracy Rate, which is calculated by accuracy_score() and k_neighbor = 7 is: 0.737013\n",
      "KNN Accuracy Rate, which is calculated by accuracy_score() and k_neighbor = 9 is: 0.724026\n",
      "finish\n"
     ]
    }
   ],
   "source": [
    "import math\n",
    "\n",
    "def Euclidean_distance(feat_one, feat_two):\n",
    "    squared_distance = 0\n",
    "\n",
    "    for i in range(8):\n",
    "        squared_distance += (feat_one[i] - feat_two[i])**2\n",
    "\n",
    "    ed = math.sqrt(squared_distance)\n",
    "    return ed\n",
    "\n",
    " \n",
    "def fit(trainingSet, testInstance, train_target):\n",
    "    distance_0 = []\n",
    "    distance_1 = []\n",
    "    i = 0\n",
    "    for row in trainingSet:\n",
    "        dist = Euclidean_distance(testInstance, row)\n",
    "        \n",
    "        if(train_target[i] == 1):\n",
    "            distance_1.append(dist)\n",
    "        else:\n",
    "            distance_0.append(dist)\n",
    "        i += 1\n",
    "    return distance_1, distance_0\n",
    "\n",
    "\n",
    "def helper(in_0, in_1, k):\n",
    "    \n",
    "    in_0.sort()\n",
    "    in_1.sort()\n",
    "    \n",
    "    t1 = 0\n",
    "    t0 = 0\n",
    "    \n",
    "    t1 = sum(in_1[:k])\n",
    "    t0 = sum(in_0[:k])\n",
    "        \n",
    "    if(t1 < t0):\n",
    "        return 1\n",
    "    else:\n",
    "        return 0\n",
    "    \n",
    "def predict(trainingSet, testingSet, train_output, k_neighbors):\n",
    "    out = []\n",
    "    for row in testingSet:\n",
    "        out_0 = []\n",
    "        out_1 = []\n",
    "        out_1, out_0 = fit(trainingSet, row, train_output)\n",
    "        \n",
    "        value = helper(out_0, out_1, k_neighbors)\n",
    "        out.append(value)\n",
    "    return out\n",
    "\n",
    "def main():\n",
    "    x_train = np.array(X_train)\n",
    "    Y_train = np.array(y_train)\n",
    "    x_test = np.array(X_test)\n",
    "    Y_test = np.array(y_test)\n",
    "    \n",
    "    for i in range(1,10,2):\n",
    "        y_predict = []\n",
    "        y_predict = predict(x_train, x_test, Y_train, i)\n",
    "        print(\"KNN Accuracy Rate, which is calculated by accuracy_score() and k_neighbor = %s is: %f\" %(i,accuracy_score(Y_test,np.array(y_predict))))\n",
    "    print(\"finish\")\n",
    "    \n",
    "main()\n",
    "    \n"
   ]
  },
  {
   "cell_type": "code",
   "execution_count": null,
   "metadata": {},
   "outputs": [],
   "source": []
  },
  {
   "cell_type": "code",
   "execution_count": null,
   "metadata": {},
   "outputs": [],
   "source": []
  }
 ],
 "metadata": {
  "kernelspec": {
   "display_name": "Python 3",
   "language": "python",
   "name": "python3"
  },
  "language_info": {
   "codemirror_mode": {
    "name": "ipython",
    "version": 3
   },
   "file_extension": ".py",
   "mimetype": "text/x-python",
   "name": "python",
   "nbconvert_exporter": "python",
   "pygments_lexer": "ipython3",
   "version": "3.6.4"
  }
 },
 "nbformat": 4,
 "nbformat_minor": 2
}
